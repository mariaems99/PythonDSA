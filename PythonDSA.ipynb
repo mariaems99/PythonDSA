{
  "nbformat": 4,
  "nbformat_minor": 0,
  "metadata": {
    "colab": {
      "provenance": [],
      "authorship_tag": "ABX9TyOydNPTQin4HFDeWOP3zbhC",
      "include_colab_link": true
    },
    "kernelspec": {
      "name": "python3",
      "display_name": "Python 3"
    },
    "language_info": {
      "name": "python"
    }
  },
  "cells": [
    {
      "cell_type": "markdown",
      "metadata": {
        "id": "view-in-github",
        "colab_type": "text"
      },
      "source": [
        "<a href=\"https://colab.research.google.com/github/mariaems99/PythonDSA/blob/main/PythonDSA.ipynb\" target=\"_parent\"><img src=\"https://colab.research.google.com/assets/colab-badge.svg\" alt=\"Open In Colab\"/></a>"
      ]
    },
    {
      "cell_type": "markdown",
      "source": [
        "# CALCULAR A ÁREA DE UM PARALELOGRAMO\n",
        "\n",
        "OBS:Um paralelogramo  é um quadrilátero com lados opostos paralelos(e portanto ângulos opostos iguais). Um quadrilátero com lados iguais é chamado de losango e um paralelogramo cujos ângulos são todos ângulos retos é chamado de retângulo.\n",
        "\n",
        "**# PSEUDOCÓDIGO**\n",
        "\n",
        "Início\n",
        "- Exiba \"Bem vindo ao Calculador de Área do Paralelogramo\"\n",
        "- Peça para o usuário inserir o comprimento da base\n",
        "- Armazene o comprimento da base em uma variável\n",
        "- Peça para o usuário inserir a altura\n",
        "- Armazene a altura em uma variável\n",
        "- Calcule a área do paralelogramo: base * altura\n",
        "- Armazene o resultado em uma variável\n",
        "- Exiba o resultado\n",
        "\n",
        "\n",
        "Fim"
      ],
      "metadata": {
        "id": "tz13aT3eHDxv"
      }
    },
    {
      "cell_type": "code",
      "execution_count": 2,
      "metadata": {
        "colab": {
          "base_uri": "https://localhost:8080/"
        },
        "id": "oCKWlXWDeSfC",
        "outputId": "ebb46ff5-ab88-4b43-c06f-b191632dbcef"
      },
      "outputs": [
        {
          "output_type": "stream",
          "name": "stdout",
          "text": [
            "Bem vindo ao Calculador de Área do Paralelogramo\n",
            "Insira o comprimento da base:5\n",
            "Insira a altura:8\n",
            "A área do paralelogramo é: 40.0\n"
          ]
        }
      ],
      "source": [
        "print(\"Bem vindo ao Calculador de Área do Paralelogramo\")\n",
        "base = float(input(\"Insira o comprimento da base:\"))\n",
        "altura = float(input(\"Insira a altura:\"))\n",
        "area = base * altura\n",
        "print(\"A área do paralelogramo é:\", area)"
      ]
    },
    {
      "cell_type": "markdown",
      "source": [
        "# CALCULADORA SIMPLES\n",
        "\n",
        "**PSEUDOCÓDIGO**\n",
        "\n",
        "Início\n",
        "- Exiba \"Bem vindo à Calculadora\"\n",
        "- Peça para o usuário inserir o primeiro número\n",
        "- Armazene o primeiro número em uma variável\n",
        "- Peça para o usuário inserir o segundo número\n",
        "- Armazene o segundo número em uma variável\n",
        "- Peça para o usuário selecionar uma operação(+,-,*,/)\n",
        "- Armazene a operação em uma variável\n",
        "- Utilize a operação selecionada e os números armazenados para realizar o cálculo\n",
        "- Exiba o resultado\n",
        "Fim\n",
        "\n"
      ],
      "metadata": {
        "id": "5wV898i_MSO9"
      }
    },
    {
      "cell_type": "code",
      "source": [],
      "metadata": {
        "id": "PvUIU--dMSuV"
      },
      "execution_count": null,
      "outputs": []
    }
  ]
}