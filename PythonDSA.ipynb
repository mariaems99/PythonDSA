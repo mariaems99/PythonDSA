{
  "nbformat": 4,
  "nbformat_minor": 0,
  "metadata": {
    "colab": {
      "provenance": [],
      "authorship_tag": "ABX9TyM/SstWelu69HualAcDfxQC",
      "include_colab_link": true
    },
    "kernelspec": {
      "name": "python3",
      "display_name": "Python 3"
    },
    "language_info": {
      "name": "python"
    }
  },
  "cells": [
    {
      "cell_type": "markdown",
      "metadata": {
        "id": "view-in-github",
        "colab_type": "text"
      },
      "source": [
        "<a href=\"https://colab.research.google.com/github/mariaems99/PythonDSA/blob/main/PythonDSA.ipynb\" target=\"_parent\"><img src=\"https://colab.research.google.com/assets/colab-badge.svg\" alt=\"Open In Colab\"/></a>"
      ]
    },
    {
      "cell_type": "markdown",
      "source": [
        "# CALCULAR A ÁREA DE UM PARALELOGRAMO\n",
        "\n",
        "OBS:Um paralelogramo  é um quadrilátero com lados opostos paralelos(e portanto ângulos opostos iguais). Um quadrilátero com lados iguais é chamado de losango e um paralelogramo cujos ângulos são todos ângulos retos é chamado de retângulo.\n",
        "\n",
        "**# PSEUDOCÓDIGO**\n",
        "\n",
        "Início\n",
        "- Exiba \"Bem vindo ao Calculador de Área do Paralelogramo\"\n",
        "- Peça para o usuário inserir o comprimento da base\n",
        "- Armazene o comprimento da base em uma variável\n",
        "- Peça para o usuário inserir a altura\n",
        "- Armazene a altura em uma variável\n",
        "- Calcule a área do paralelogramo: base * altura\n",
        "- Armazene o resultado em uma variável\n",
        "- Exiba o resultado\n",
        "\n",
        "\n",
        "Fim"
      ],
      "metadata": {
        "id": "tz13aT3eHDxv"
      }
    },
    {
      "cell_type": "code",
      "execution_count": 2,
      "metadata": {
        "colab": {
          "base_uri": "https://localhost:8080/"
        },
        "id": "oCKWlXWDeSfC",
        "outputId": "ebb46ff5-ab88-4b43-c06f-b191632dbcef"
      },
      "outputs": [
        {
          "output_type": "stream",
          "name": "stdout",
          "text": [
            "Bem vindo ao Calculador de Área do Paralelogramo\n",
            "Insira o comprimento da base:5\n",
            "Insira a altura:8\n",
            "A área do paralelogramo é: 40.0\n"
          ]
        }
      ],
      "source": [
        "print(\"Bem vindo ao Calculador de Área do Paralelogramo\")\n",
        "base = float(input(\"Insira o comprimento da base:\"))\n",
        "altura = float(input(\"Insira a altura:\"))\n",
        "area = base * altura\n",
        "print(\"A área do paralelogramo é:\", area)"
      ]
    },
    {
      "cell_type": "markdown",
      "source": [
        "# CALCULADORA SIMPLES\n",
        "\n",
        "**PSEUDOCÓDIGO**\n",
        "\n",
        "Início\n",
        "- Exiba \"Bem vindo à Calculadora\"\n",
        "- Peça para o usuário inserir o primeiro número\n",
        "- Armazene o primeiro número em uma variável\n",
        "- Peça para o usuário inserir o segundo número\n",
        "- Armazene o segundo número em uma variável\n",
        "- Peça para o usuário selecionar uma operação(+,-,*,/)\n",
        "- Armazene a operação em uma variável\n",
        "- Utilize a operação selecionada e os números armazenados para realizar o cálculo\n",
        "- Exiba o resultado\n",
        "\n",
        "Fim\n",
        "\n"
      ],
      "metadata": {
        "id": "5wV898i_MSO9"
      }
    },
    {
      "cell_type": "code",
      "source": [
        "print(\"Bem vindo à Calculadora\")\n",
        "numero1 = float(input(\"Insira o primeiro número:\"))\n",
        "numero2 = float(input(\"Insira o segundo número:\"))\n",
        "operacao = input(\"Insira a operação (+, -, *, /)\")\n",
        "if operacao == \"+\":\n",
        "   resultado = numero1 + numero2\n",
        "   print(\"O resultado é:\", resultado)\n",
        "elif operacao == \"-\":\n",
        "     resultado = numero1 - numero2\n",
        "     print(\"O resultado é:\", resultado)\n",
        "elif operacao == \"*\":\n",
        "     resultado = numero1 * numero2\n",
        "     print(\"O resultado é:\", resultado)\n",
        "elif operacao == \"/\":\n",
        "     resultado = numero1 / numero2\n",
        "     print(\"O resultado é:\", resultado)\n",
        "else:\n",
        "    print(\"Operação inválida\")\n",
        "\n",
        ""
      ],
      "metadata": {
        "colab": {
          "base_uri": "https://localhost:8080/"
        },
        "id": "PvUIU--dMSuV",
        "outputId": "30dec8b4-bb35-422e-abc0-823ae01ac360"
      },
      "execution_count": 7,
      "outputs": [
        {
          "output_type": "stream",
          "name": "stdout",
          "text": [
            "Bem vindo à Calculadora\n",
            "Insira o primeiro número:8\n",
            "Insira o segundo número:8\n",
            "Insira a operação (+, -, *, /)/\n",
            "O resultado é: 1.0\n"
          ]
        }
      ]
    },
    {
      "cell_type": "markdown",
      "source": [
        "# ALGORITMO BUBBLE SORT\n",
        "\n",
        "Bubble sort é um algoritmo de ordenação simples que funciona comparando cada elemteno com o próximo, e trocando-os de lugar se eles estiverem em ordem incorreta. O algoritmo repete esse processo várias vezes, até que todos os elementos estejam ordenados. A cada passagem, o maior elemento \"flutua\" para o final do array, como uma bolha, dando origem ao nome do algoritmo.\n",
        "\n",
        "**PSEUDOCÓDIGO**\n",
        "\n",
        "\n",
        "- Para cada elemento i no array de tamanho n\n",
        "     - Para cada elemento j no array de tamanho n-1\n",
        "          - Se elemento i for maior que elemento j\n",
        "              - Troque os elementos i e j\n",
        "- Exiba o array ordenado\n",
        "\n",
        "---\n",
        "\n",
        "\n",
        "---\n",
        "\n",
        "\n",
        "\n",
        "\n",
        "\n",
        "\n",
        "\n",
        "\n",
        "\n",
        "\n",
        "\n",
        "\n",
        "\n",
        "- Considere esta lista como exemplo para ordenação com o bubble sort\n",
        "\n",
        "lista = [6,3,12,7]\n",
        "\n",
        "- Primeira passada do algoritmo(troca os elementos 6 e 3 de lugar)\n",
        "\n",
        "lista = [3,6,12,7]\n",
        "\n",
        "- Segunda passada do algoritmo(não tem troca entre 6 e 12)\n",
        "\n",
        "lista = [3,6,12,7]\n",
        "\n",
        "- Terceira passa do algoritmo(troca os elementos 12 e 7 do lugar)\n",
        "\n",
        "lista = [3, 6, 7, 12]\n"
      ],
      "metadata": {
        "id": "J6Hiw5sTRdE2"
      }
    },
    {
      "cell_type": "code",
      "source": [
        "lista = [6,3,12,7]\n",
        "\n",
        "def bubble_sort(arr):\n",
        "    n = len(arr)\n",
        "    for i in range(n):\n",
        "        for j in range(0, n-i-1):\n",
        "            if arr[j] > arr[j+1]:\n",
        "                arr[j], arr[j+1] = arr[j+1], arr[j]\n",
        "    return arr\n",
        "print(bubble_sort(lista))\n"
      ],
      "metadata": {
        "colab": {
          "base_uri": "https://localhost:8080/"
        },
        "id": "JF1CwlBBaGq7",
        "outputId": "84c24c4a-0747-4da4-ddf6-e9da2b64896c"
      },
      "execution_count": 9,
      "outputs": [
        {
          "output_type": "stream",
          "name": "stdout",
          "text": [
            "[3, 6, 7, 12]\n"
          ]
        }
      ]
    }
  ]
}